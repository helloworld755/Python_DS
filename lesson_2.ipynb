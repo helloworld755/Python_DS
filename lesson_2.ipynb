{
 "cells": [
  {
   "cell_type": "markdown",
   "id": "227f19c5",
   "metadata": {},
   "source": [
    "### Вычисления с помощью Numpy"
   ]
  },
  {
   "cell_type": "markdown",
   "id": "876389ec",
   "metadata": {},
   "source": [
    "##### Задание 1"
   ]
  },
  {
   "cell_type": "markdown",
   "id": "7c352a04",
   "metadata": {},
   "source": [
    "Импортируйте библиотеку Numpy и дайте ей псевдоним np.\n",
    "Создайте массив Numpy под названием a размером 5x2, то есть состоящий из 5 строк и 2 столбцов. Первый столбец должен содержать числа 1, 2, 3, 3, 1, а второй - числа 6, 8, 11, 10, 7. Будем считать, что каждый столбец - это признак, а строка - наблюдение. Затем найдите среднее значение по каждому признаку, используя метод mean массива Numpy. Результат запишите в массив mean_a, в нем должно быть 2 элемента."
   ]
  },
  {
   "cell_type": "code",
   "execution_count": 1,
   "id": "1ae1b68f",
   "metadata": {},
   "outputs": [],
   "source": [
    "import numpy as np"
   ]
  },
  {
   "cell_type": "code",
   "execution_count": 2,
   "id": "7573893a",
   "metadata": {},
   "outputs": [],
   "source": [
    "a = np.array([[1, 2, 3, 3, 1], [6, 8, 11, 10, 7]])"
   ]
  },
  {
   "cell_type": "code",
   "execution_count": 4,
   "id": "1b42f0bb",
   "metadata": {},
   "outputs": [],
   "source": [
    "a = a.transpose()"
   ]
  },
  {
   "cell_type": "code",
   "execution_count": 5,
   "id": "e07efc77",
   "metadata": {},
   "outputs": [
    {
     "name": "stdout",
     "output_type": "stream",
     "text": [
      "[[ 1  6]\n",
      " [ 2  8]\n",
      " [ 3 11]\n",
      " [ 3 10]\n",
      " [ 1  7]]\n"
     ]
    }
   ],
   "source": [
    "print(a)"
   ]
  },
  {
   "cell_type": "code",
   "execution_count": 6,
   "id": "ee7e0e88",
   "metadata": {},
   "outputs": [],
   "source": [
    "mean_a = np.mean(a, axis = 0)"
   ]
  },
  {
   "cell_type": "code",
   "execution_count": 7,
   "id": "cdfac237",
   "metadata": {},
   "outputs": [
    {
     "name": "stdout",
     "output_type": "stream",
     "text": [
      "[2.  8.4]\n"
     ]
    }
   ],
   "source": [
    "print(mean_a)"
   ]
  },
  {
   "cell_type": "markdown",
   "id": "9ff90d05",
   "metadata": {},
   "source": [
    "##### Задание 2"
   ]
  },
  {
   "cell_type": "markdown",
   "id": "d2cba91a",
   "metadata": {},
   "source": [
    "Вычислите массив a_centered, отняв от значений массива “а” средние значения соответствующих признаков, содержащиеся в массиве mean_a. Вычисление должно производиться в одно действие. Получившийся массив должен иметь размер 5x2."
   ]
  },
  {
   "cell_type": "code",
   "execution_count": 8,
   "id": "4f693b70",
   "metadata": {},
   "outputs": [],
   "source": [
    "a_centered = a - mean_a"
   ]
  },
  {
   "cell_type": "code",
   "execution_count": 9,
   "id": "5a695f52",
   "metadata": {},
   "outputs": [
    {
     "name": "stdout",
     "output_type": "stream",
     "text": [
      "[[-1.  -2.4]\n",
      " [ 0.  -0.4]\n",
      " [ 1.   2.6]\n",
      " [ 1.   1.6]\n",
      " [-1.  -1.4]]\n"
     ]
    }
   ],
   "source": [
    "print(a_centered)"
   ]
  },
  {
   "cell_type": "markdown",
   "id": "2f350512",
   "metadata": {},
   "source": [
    "##### Задание 3"
   ]
  },
  {
   "cell_type": "markdown",
   "id": "b95acae7",
   "metadata": {},
   "source": [
    "Найдите скалярное произведение столбцов массива a_centered. В результате должна получиться величина a_centered_sp. Затем поделите a_centered_sp на N-1, где N - число наблюдений."
   ]
  },
  {
   "cell_type": "code",
   "execution_count": 11,
   "id": "589a3b35",
   "metadata": {},
   "outputs": [],
   "source": [
    "a_centered_sp = a_centered.T[0] @ a_centered.T[1]"
   ]
  },
  {
   "cell_type": "code",
   "execution_count": 12,
   "id": "2a8a232f",
   "metadata": {},
   "outputs": [
    {
     "name": "stdout",
     "output_type": "stream",
     "text": [
      "8.0\n"
     ]
    }
   ],
   "source": [
    "print(a_centered_sp)"
   ]
  },
  {
   "cell_type": "code",
   "execution_count": 17,
   "id": "a2b00689",
   "metadata": {},
   "outputs": [
    {
     "data": {
      "text/plain": [
       "2.0"
      ]
     },
     "execution_count": 17,
     "metadata": {},
     "output_type": "execute_result"
    }
   ],
   "source": [
    "a_centered_sp / (a_centered.shape[0] - 1)"
   ]
  },
  {
   "cell_type": "markdown",
   "id": "299d996b",
   "metadata": {},
   "source": [
    "##### Задание 4**"
   ]
  },
  {
   "cell_type": "markdown",
   "id": "62296eb9",
   "metadata": {},
   "source": [
    "Число, которое мы получили в конце задания 3 является ковариацией двух признаков, содержащихся в массиве “а”. В задании 4 мы делили сумму произведений центрированных признаков на N-1, а не на N, поэтому полученная нами величина является несмещенной оценкой ковариации.\n",
    "В этом задании проверьте получившееся число, вычислив ковариацию еще одним способом - с помощью функции np.cov. В качестве аргумента m функция np.cov должна принимать транспонированный массив “a”. В получившейся ковариационной матрице (массив Numpy размером 2x2) искомое значение ковариации будет равно элементу в строке с индексом 0 и столбце с индексом 1."
   ]
  },
  {
   "cell_type": "code",
   "execution_count": 18,
   "id": "f36b4fca",
   "metadata": {},
   "outputs": [
    {
     "data": {
      "text/plain": [
       "2.0"
      ]
     },
     "execution_count": 18,
     "metadata": {},
     "output_type": "execute_result"
    }
   ],
   "source": [
    "np.cov(a.T)[0, 1]"
   ]
  },
  {
   "cell_type": "markdown",
   "id": "83a41e49",
   "metadata": {},
   "source": [
    "---"
   ]
  },
  {
   "cell_type": "markdown",
   "id": "c6d55f99",
   "metadata": {},
   "source": [
    "### Работа с данными в Pandas"
   ]
  },
  {
   "cell_type": "markdown",
   "id": "f8343d0b",
   "metadata": {},
   "source": [
    "##### Задание 1"
   ]
  },
  {
   "cell_type": "markdown",
   "id": "68c254c2",
   "metadata": {},
   "source": [
    "Импортируйте библиотеку Pandas и дайте ей псевдоним pd. Создайте датафрейм authors со столбцами author_id и author_name, в которых соответственно содержатся данные: [1, 2, 3] и ['Тургенев', 'Чехов', 'Островский'].\n",
    "Затем создайте датафрейм book cо столбцами author_id, book_title и price, в которых соответственно содержатся данные:  \n",
    "[1, 1, 1, 2, 2, 3, 3],\n",
    "['Отцы и дети', 'Рудин', 'Дворянское гнездо', 'Толстый и тонкий', 'Дама с собачкой', 'Гроза', 'Таланты и поклонники'],\n",
    "[450, 300, 350, 500, 450, 370, 290]."
   ]
  },
  {
   "cell_type": "code",
   "execution_count": 19,
   "id": "f8daba8a",
   "metadata": {},
   "outputs": [],
   "source": [
    "import pandas as pd"
   ]
  },
  {
   "cell_type": "code",
   "execution_count": 20,
   "id": "3114de49",
   "metadata": {},
   "outputs": [],
   "source": [
    "authors = pd.DataFrame({'author_id':[1, 2, 3],\n",
    "                        'author_name':['Тургенев', 'Чехов', 'Островский']})"
   ]
  },
  {
   "cell_type": "code",
   "execution_count": 21,
   "id": "aed13878",
   "metadata": {},
   "outputs": [],
   "source": [
    "book = pd.DataFrame({'author_id':[1, 1, 1, 2, 2, 3, 3], \n",
    "                     'book_title':['Отцы и дети', 'Рудин', 'Дворянское гнездо', 'Толстый и тонкий', 'Дама с собачкой', 'Гроза', 'Таланты и поклонники'], \n",
    "                     'price':[450, 300, 350, 500, 450, 370, 290]})"
   ]
  },
  {
   "cell_type": "markdown",
   "id": "71af02e2",
   "metadata": {},
   "source": [
    "##### Задание 2"
   ]
  },
  {
   "cell_type": "markdown",
   "id": "3d90480a",
   "metadata": {},
   "source": [
    "Получите датафрейм authors_price, соединив датафреймы authors и books по полю author_id."
   ]
  },
  {
   "cell_type": "code",
   "execution_count": 22,
   "id": "c052f33e",
   "metadata": {},
   "outputs": [],
   "source": [
    "authors_price = pd.merge(authors, book, on = 'author_id', how = 'outer')"
   ]
  },
  {
   "cell_type": "code",
   "execution_count": 23,
   "id": "c5eb8d6e",
   "metadata": {},
   "outputs": [
    {
     "name": "stdout",
     "output_type": "stream",
     "text": [
      "   author_id author_name            book_title  price\n",
      "0          1    Тургенев           Отцы и дети    450\n",
      "1          1    Тургенев                 Рудин    300\n",
      "2          1    Тургенев     Дворянское гнездо    350\n",
      "3          2       Чехов      Толстый и тонкий    500\n",
      "4          2       Чехов       Дама с собачкой    450\n",
      "5          3  Островский                 Гроза    370\n",
      "6          3  Островский  Таланты и поклонники    290\n"
     ]
    }
   ],
   "source": [
    "print(authors_price)"
   ]
  },
  {
   "cell_type": "markdown",
   "id": "75477c3e",
   "metadata": {},
   "source": [
    "##### Задание 3"
   ]
  },
  {
   "cell_type": "markdown",
   "id": "45b6879e",
   "metadata": {},
   "source": [
    "Создайте датафрейм top5, в котором содержатся строки из authors_price с пятью самыми дорогими книгами."
   ]
  },
  {
   "cell_type": "code",
   "execution_count": 24,
   "id": "a250dd14",
   "metadata": {},
   "outputs": [],
   "source": [
    "top5 = authors_price.nlargest(5, 'price')"
   ]
  },
  {
   "cell_type": "code",
   "execution_count": 25,
   "id": "b215e2b7",
   "metadata": {},
   "outputs": [
    {
     "name": "stdout",
     "output_type": "stream",
     "text": [
      "   author_id author_name         book_title  price\n",
      "3          2       Чехов   Толстый и тонкий    500\n",
      "0          1    Тургенев        Отцы и дети    450\n",
      "4          2       Чехов    Дама с собачкой    450\n",
      "5          3  Островский              Гроза    370\n",
      "2          1    Тургенев  Дворянское гнездо    350\n"
     ]
    }
   ],
   "source": [
    "print(top5)"
   ]
  },
  {
   "cell_type": "markdown",
   "id": "bcf78321",
   "metadata": {},
   "source": [
    "##### Задание 4"
   ]
  },
  {
   "cell_type": "markdown",
   "id": "f931975a",
   "metadata": {},
   "source": [
    "Создайте датафрейм authors_stat на основе информации из authors_price. В датафрейме authors_stat должны быть четыре столбца:\n",
    "author_name, min_price, max_price и mean_price,\n",
    "в которых должны содержаться соответственно имя автора, минимальная, максимальная и средняя цена на книги этого автора."
   ]
  },
  {
   "cell_type": "code",
   "execution_count": 49,
   "id": "4f9bf1d7",
   "metadata": {},
   "outputs": [],
   "source": [
    "authors_stat = authors_price.groupby('author_name').agg({'price': ['min', 'max', 'mean']})"
   ]
  },
  {
   "cell_type": "code",
   "execution_count": 50,
   "id": "10106886",
   "metadata": {},
   "outputs": [
    {
     "name": "stdout",
     "output_type": "stream",
     "text": [
      "            price                 \n",
      "              min  max        mean\n",
      "author_name                       \n",
      "Островский    290  370  330.000000\n",
      "Тургенев      300  450  366.666667\n",
      "Чехов         450  500  475.000000\n"
     ]
    }
   ],
   "source": [
    "print(authors_stat)"
   ]
  },
  {
   "cell_type": "code",
   "execution_count": 51,
   "id": "bf959700",
   "metadata": {},
   "outputs": [],
   "source": [
    "authors_stat = authors_stat.rename(columns={'min':'min_price', 'max':'max_price', 'mean':'mean_price'})"
   ]
  },
  {
   "cell_type": "code",
   "execution_count": 54,
   "id": "b42a5d38",
   "metadata": {},
   "outputs": [
    {
     "name": "stdout",
     "output_type": "stream",
     "text": [
      "                price                      \n",
      "            min_price max_price  mean_price\n",
      "author_name                                \n",
      "Островский        290       370  330.000000\n",
      "Тургенев          300       450  366.666667\n",
      "Чехов             450       500  475.000000\n"
     ]
    }
   ],
   "source": [
    "print(authors_stat)"
   ]
  }
 ],
 "metadata": {
  "kernelspec": {
   "display_name": "Python 3 (ipykernel)",
   "language": "python",
   "name": "python3"
  },
  "language_info": {
   "codemirror_mode": {
    "name": "ipython",
    "version": 3
   },
   "file_extension": ".py",
   "mimetype": "text/x-python",
   "name": "python",
   "nbconvert_exporter": "python",
   "pygments_lexer": "ipython3",
   "version": "3.9.7"
  }
 },
 "nbformat": 4,
 "nbformat_minor": 5
}
